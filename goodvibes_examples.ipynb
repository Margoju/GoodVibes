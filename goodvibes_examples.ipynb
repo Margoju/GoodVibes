{
 "cells": [
  {
   "cell_type": "code",
   "execution_count": 1,
   "metadata": {},
   "outputs": [],
   "source": [
    "import os, glob, time\n",
    "import pandas as pd\n",
    "import numpy as np"
   ]
  },
  {
   "cell_type": "code",
   "execution_count": 2,
   "metadata": {},
   "outputs": [],
   "source": [
    "# here are the GoodVibes imports! \n",
    "import goodvibes.GoodVibes as gv\n",
    "import goodvibes.thermo as thermo\n",
    "import goodvibes.io as io\n",
    "import goodvibes.pes as pes"
   ]
  },
  {
   "cell_type": "code",
   "execution_count": 3,
   "metadata": {},
   "outputs": [],
   "source": [
    "# create a text file for all output (required)\n",
    "log = io.Logger(\"Goodvibes\", 'output', False)"
   ]
  },
  {
   "cell_type": "code",
   "execution_count": 4,
   "metadata": {},
   "outputs": [],
   "source": [
    "os.chdir('goodvibes/examples')"
   ]
  },
  {
   "cell_type": "markdown",
   "metadata": {},
   "source": [
    "### Example 1: Grimme-type quasi-harmonic correction with a (Grimme type) cut-off of 150 cm-1"
   ]
  },
  {
   "cell_type": "code",
   "execution_count": 5,
   "metadata": {},
   "outputs": [],
   "source": [
    "options = gv.GVOptions()\n",
    "options.QS = 'grimme' # this is the default and not required \n",
    "options.S_freq_cutoff = 150 # the default is 100"
   ]
  },
  {
   "cell_type": "code",
   "execution_count": 6,
   "metadata": {},
   "outputs": [],
   "source": [
    "# Parse output file for energy, frequency, method, etc.\n",
    "file = 'methylaniline.out'\n",
    "file_data = io.getoutData(file, options)"
   ]
  },
  {
   "cell_type": "code",
   "execution_count": 7,
   "metadata": {},
   "outputs": [],
   "source": [
    "# Carry out the thermochemical analysis\n",
    "bbe_val = thermo.calc_bbe(file_data, options)"
   ]
  },
  {
   "cell_type": "code",
   "execution_count": 8,
   "metadata": {},
   "outputs": [
    {
     "data": {
      "text/html": [
       "<div>\n",
       "<style scoped>\n",
       "    .dataframe tbody tr th:only-of-type {\n",
       "        vertical-align: middle;\n",
       "    }\n",
       "\n",
       "    .dataframe tbody tr th {\n",
       "        vertical-align: top;\n",
       "    }\n",
       "\n",
       "    .dataframe thead th {\n",
       "        text-align: right;\n",
       "    }\n",
       "</style>\n",
       "<table border=\"1\" class=\"dataframe\">\n",
       "  <thead>\n",
       "    <tr style=\"text-align: right;\">\n",
       "      <th></th>\n",
       "      <th>Structure</th>\n",
       "      <th>scf_energy</th>\n",
       "      <th>zpe</th>\n",
       "      <th>enthalpy</th>\n",
       "      <th>entropy</th>\n",
       "      <th>qh_entropy</th>\n",
       "      <th>gibbs_free_energy</th>\n",
       "      <th>qh_gibbs_free_energy</th>\n",
       "    </tr>\n",
       "  </thead>\n",
       "  <tbody>\n",
       "    <tr>\n",
       "      <th>0</th>\n",
       "      <td>methylaniline.out</td>\n",
       "      <td>-326.664901</td>\n",
       "      <td>0.142118</td>\n",
       "      <td>-326.514489</td>\n",
       "      <td>0.000133</td>\n",
       "      <td>0.000132</td>\n",
       "      <td>-326.554157</td>\n",
       "      <td>-326.553954</td>\n",
       "    </tr>\n",
       "  </tbody>\n",
       "</table>\n",
       "</div>"
      ],
      "text/plain": [
       "           Structure  scf_energy       zpe    enthalpy   entropy  qh_entropy  \\\n",
       "0  methylaniline.out -326.664901  0.142118 -326.514489  0.000133    0.000132   \n",
       "\n",
       "   gibbs_free_energy  qh_gibbs_free_energy  \n",
       "0        -326.554157           -326.553954  "
      ]
     },
     "execution_count": 8,
     "metadata": {},
     "output_type": "execute_result"
    }
   ],
   "source": [
    "# Create pandas dataframe with thermochemical values\n",
    "cols = ['scf_energy', 'zpe', 'enthalpy', 'entropy', 'qh_entropy', 'gibbs_free_energy', 'qh_gibbs_free_energy']\n",
    "vals = [getattr(bbe_val, k) for k in cols]\n",
    "bbe_df = pd.DataFrame(vals).T\n",
    "bbe_df.columns = cols\n",
    "bbe_df.insert(loc=0, column='Structure', value=[file_data.name])\n",
    "bbe_df"
   ]
  },
  {
   "cell_type": "markdown",
   "metadata": {},
   "source": [
    "### Example 2: Quasi-harmonic thermochemistry with a larger basis set single point energy correction link job"
   ]
  },
  {
   "cell_type": "code",
   "execution_count": 9,
   "metadata": {},
   "outputs": [],
   "source": [
    "options = gv.GVOptions()\n",
    "options.spc = 'link' # lets consider an internally-linked job where a single point energy follows a frequency calc."
   ]
  },
  {
   "cell_type": "code",
   "execution_count": 10,
   "metadata": {},
   "outputs": [
    {
     "name": "stdout",
     "output_type": "stream",
     "text": [
      "\n",
      "\n",
      "o  Found vibrational scaling factor of 0.977 for B3LYP/6-31G(d) level of theory\n",
      "   Alecu, I. M.; Zheng, J.; Zhao, Y.; Truhlar, D. G. J. Chem. Theory Comput. 2010, 6, 2872-2887."
     ]
    }
   ],
   "source": [
    "# Parse output file for energy, frequency, method, etc.\n",
    "file_data = io.getoutData('ethane_spc.out', options)\n",
    "\n",
    "# Carry out the thermochemical analysis - auto-detect the vibrational scaling factor\n",
    "options.freq_scale_factor = False # turns of default value of 1\n",
    "level_of_theory = [file_data.functional + '/' + file_data.basis_set]\n",
    "options.freq_scale_factor, options.mm_freq_scale_factor = gv.get_vib_scale_factor(level_of_theory, options, log)\n",
    "bbe_val = thermo.calc_bbe(file_data, options)"
   ]
  },
  {
   "cell_type": "code",
   "execution_count": 11,
   "metadata": {},
   "outputs": [
    {
     "data": {
      "text/html": [
       "<div>\n",
       "<style scoped>\n",
       "    .dataframe tbody tr th:only-of-type {\n",
       "        vertical-align: middle;\n",
       "    }\n",
       "\n",
       "    .dataframe tbody tr th {\n",
       "        vertical-align: top;\n",
       "    }\n",
       "\n",
       "    .dataframe thead th {\n",
       "        text-align: right;\n",
       "    }\n",
       "</style>\n",
       "<table border=\"1\" class=\"dataframe\">\n",
       "  <thead>\n",
       "    <tr style=\"text-align: right;\">\n",
       "      <th></th>\n",
       "      <th>Structure</th>\n",
       "      <th>sp_energy</th>\n",
       "      <th>scf_energy</th>\n",
       "      <th>zpe</th>\n",
       "      <th>enthalpy</th>\n",
       "      <th>entropy</th>\n",
       "      <th>qh_entropy</th>\n",
       "      <th>gibbs_free_energy</th>\n",
       "      <th>qh_gibbs_free_energy</th>\n",
       "    </tr>\n",
       "  </thead>\n",
       "  <tbody>\n",
       "    <tr>\n",
       "      <th>0</th>\n",
       "      <td>ethane_spc.out</td>\n",
       "      <td>-79.858399</td>\n",
       "      <td>-79.830421</td>\n",
       "      <td>0.073508</td>\n",
       "      <td>-79.780448</td>\n",
       "      <td>0.000092</td>\n",
       "      <td>0.000092</td>\n",
       "      <td>-79.808017</td>\n",
       "      <td>-79.808019</td>\n",
       "    </tr>\n",
       "  </tbody>\n",
       "</table>\n",
       "</div>"
      ],
      "text/plain": [
       "        Structure  sp_energy  scf_energy       zpe   enthalpy   entropy  \\\n",
       "0  ethane_spc.out -79.858399  -79.830421  0.073508 -79.780448  0.000092   \n",
       "\n",
       "   qh_entropy  gibbs_free_energy  qh_gibbs_free_energy  \n",
       "0    0.000092         -79.808017            -79.808019  "
      ]
     },
     "execution_count": 11,
     "metadata": {},
     "output_type": "execute_result"
    }
   ],
   "source": [
    "# Create dataframe with thermochemical values\n",
    "cols = ['sp_energy', 'scf_energy', 'zpe', 'enthalpy', 'entropy', 'qh_entropy', 'gibbs_free_energy', 'qh_gibbs_free_energy']\n",
    "vals = [getattr(bbe_val, k) for k in cols]\n",
    "bbe_df = pd.DataFrame(vals).T\n",
    "bbe_df.columns = cols\n",
    "bbe_df.insert(loc=0, column='Structure', value=[file_data.name])\n",
    "bbe_df"
   ]
  },
  {
   "cell_type": "code",
   "execution_count": 12,
   "metadata": {},
   "outputs": [],
   "source": [
    "# now lets consider the case where the single point energy calculation is in a separate file\n",
    "options.spc = 'TZ'\n",
    "file = 'ethane.out'\n",
    "file_data = io.getoutData(file, options)"
   ]
  },
  {
   "cell_type": "code",
   "execution_count": 13,
   "metadata": {},
   "outputs": [
    {
     "data": {
      "text/html": [
       "<div>\n",
       "<style scoped>\n",
       "    .dataframe tbody tr th:only-of-type {\n",
       "        vertical-align: middle;\n",
       "    }\n",
       "\n",
       "    .dataframe tbody tr th {\n",
       "        vertical-align: top;\n",
       "    }\n",
       "\n",
       "    .dataframe thead th {\n",
       "        text-align: right;\n",
       "    }\n",
       "</style>\n",
       "<table border=\"1\" class=\"dataframe\">\n",
       "  <thead>\n",
       "    <tr style=\"text-align: right;\">\n",
       "      <th></th>\n",
       "      <th>Structure</th>\n",
       "      <th>sp_energy</th>\n",
       "      <th>scf_energy</th>\n",
       "      <th>zpe</th>\n",
       "      <th>enthalpy</th>\n",
       "      <th>entropy</th>\n",
       "      <th>qh_entropy</th>\n",
       "      <th>gibbs_free_energy</th>\n",
       "      <th>qh_gibbs_free_energy</th>\n",
       "    </tr>\n",
       "  </thead>\n",
       "  <tbody>\n",
       "    <tr>\n",
       "      <th>0</th>\n",
       "      <td>ethane.out</td>\n",
       "      <td>-79.858399</td>\n",
       "      <td>-79.830421</td>\n",
       "      <td>0.073508</td>\n",
       "      <td>-79.780448</td>\n",
       "      <td>0.000092</td>\n",
       "      <td>0.000092</td>\n",
       "      <td>-79.808017</td>\n",
       "      <td>-79.808019</td>\n",
       "    </tr>\n",
       "  </tbody>\n",
       "</table>\n",
       "</div>"
      ],
      "text/plain": [
       "    Structure  sp_energy  scf_energy       zpe   enthalpy   entropy  \\\n",
       "0  ethane.out -79.858399  -79.830421  0.073508 -79.780448  0.000092   \n",
       "\n",
       "   qh_entropy  gibbs_free_energy  qh_gibbs_free_energy  \n",
       "0    0.000092         -79.808017            -79.808019  "
      ]
     },
     "execution_count": 13,
     "metadata": {},
     "output_type": "execute_result"
    }
   ],
   "source": [
    "# Create dataframe with thermochemical values\n",
    "bbe_val = thermo.calc_bbe(file_data, options)\n",
    "vals = [getattr(bbe_val, k) for k in cols]\n",
    "bbe_df = pd.DataFrame(vals).T\n",
    "bbe_df.columns = cols\n",
    "bbe_df.insert(loc=0, column='Structure', value=[file_data.name])\n",
    "bbe_df"
   ]
  },
  {
   "cell_type": "markdown",
   "metadata": {},
   "source": [
    "### Example 3: Changing the temperature (from standard 298.15 K to 1000 K) and concentration (from standard state in gas phase, 1 atm, to standard state in solution, 1 mol/l)"
   ]
  },
  {
   "cell_type": "code",
   "execution_count": 14,
   "metadata": {},
   "outputs": [],
   "source": [
    "options = gv.GVOptions()\n",
    "options.conc = 1\n",
    "options.temperature = 1000"
   ]
  },
  {
   "cell_type": "code",
   "execution_count": 15,
   "metadata": {},
   "outputs": [
    {
     "data": {
      "text/html": [
       "<div>\n",
       "<style scoped>\n",
       "    .dataframe tbody tr th:only-of-type {\n",
       "        vertical-align: middle;\n",
       "    }\n",
       "\n",
       "    .dataframe tbody tr th {\n",
       "        vertical-align: top;\n",
       "    }\n",
       "\n",
       "    .dataframe thead th {\n",
       "        text-align: right;\n",
       "    }\n",
       "</style>\n",
       "<table border=\"1\" class=\"dataframe\">\n",
       "  <thead>\n",
       "    <tr style=\"text-align: right;\">\n",
       "      <th></th>\n",
       "      <th>Structure</th>\n",
       "      <th>scf_energy</th>\n",
       "      <th>zpe</th>\n",
       "      <th>enthalpy</th>\n",
       "      <th>entropy</th>\n",
       "      <th>qh_entropy</th>\n",
       "      <th>gibbs_free_energy</th>\n",
       "      <th>qh_gibbs_free_energy</th>\n",
       "    </tr>\n",
       "  </thead>\n",
       "  <tbody>\n",
       "    <tr>\n",
       "      <th>0</th>\n",
       "      <td>methylaniline.out</td>\n",
       "      <td>-326.664901</td>\n",
       "      <td>0.142118</td>\n",
       "      <td>-326.452307</td>\n",
       "      <td>0.000218</td>\n",
       "      <td>0.000217</td>\n",
       "      <td>-326.670519</td>\n",
       "      <td>-326.668866</td>\n",
       "    </tr>\n",
       "  </tbody>\n",
       "</table>\n",
       "</div>"
      ],
      "text/plain": [
       "           Structure  scf_energy       zpe    enthalpy   entropy  qh_entropy  \\\n",
       "0  methylaniline.out -326.664901  0.142118 -326.452307  0.000218    0.000217   \n",
       "\n",
       "   gibbs_free_energy  qh_gibbs_free_energy  \n",
       "0        -326.670519           -326.668866  "
      ]
     },
     "execution_count": 15,
     "metadata": {},
     "output_type": "execute_result"
    }
   ],
   "source": [
    "# Parse output file for energy, frequency, method, etc.\n",
    "file_data = io.getoutData('methylaniline.out', options)\n",
    "\n",
    "# Carry out the thermochemical analysis and then create dataframe with results\n",
    "bbe_val = thermo.calc_bbe(file_data, options)\n",
    "cols = ['scf_energy', 'zpe', 'enthalpy', 'entropy', 'qh_entropy', 'gibbs_free_energy', 'qh_gibbs_free_energy']\n",
    "bbe_df = pd.DataFrame([getattr(bbe_val, k) for k in cols]).T\n",
    "bbe_df.columns = cols\n",
    "bbe_df.insert(loc=0, column='Structure', value=[file_data.name])\n",
    "bbe_df"
   ]
  },
  {
   "cell_type": "markdown",
   "metadata": {},
   "source": [
    "### Example 5: Analyzing the Gibbs Energy using scaled vibrational frequencies"
   ]
  },
  {
   "cell_type": "code",
   "execution_count": 16,
   "metadata": {},
   "outputs": [],
   "source": [
    "options = gv.GVOptions()\n",
    "options.freq_scale_factor = 0.95"
   ]
  },
  {
   "cell_type": "code",
   "execution_count": 17,
   "metadata": {},
   "outputs": [
    {
     "data": {
      "text/html": [
       "<div>\n",
       "<style scoped>\n",
       "    .dataframe tbody tr th:only-of-type {\n",
       "        vertical-align: middle;\n",
       "    }\n",
       "\n",
       "    .dataframe tbody tr th {\n",
       "        vertical-align: top;\n",
       "    }\n",
       "\n",
       "    .dataframe thead th {\n",
       "        text-align: right;\n",
       "    }\n",
       "</style>\n",
       "<table border=\"1\" class=\"dataframe\">\n",
       "  <thead>\n",
       "    <tr style=\"text-align: right;\">\n",
       "      <th></th>\n",
       "      <th>Structure</th>\n",
       "      <th>scf_energy</th>\n",
       "      <th>zpe</th>\n",
       "      <th>enthalpy</th>\n",
       "      <th>entropy</th>\n",
       "      <th>qh_entropy</th>\n",
       "      <th>gibbs_free_energy</th>\n",
       "      <th>qh_gibbs_free_energy</th>\n",
       "    </tr>\n",
       "  </thead>\n",
       "  <tbody>\n",
       "    <tr>\n",
       "      <th>0</th>\n",
       "      <td>methylaniline.out</td>\n",
       "      <td>-326.664901</td>\n",
       "      <td>0.135012</td>\n",
       "      <td>-326.521265</td>\n",
       "      <td>0.000135</td>\n",
       "      <td>0.000134</td>\n",
       "      <td>-326.561503</td>\n",
       "      <td>-326.561356</td>\n",
       "    </tr>\n",
       "  </tbody>\n",
       "</table>\n",
       "</div>"
      ],
      "text/plain": [
       "           Structure  scf_energy       zpe    enthalpy   entropy  qh_entropy  \\\n",
       "0  methylaniline.out -326.664901  0.135012 -326.521265  0.000135    0.000134   \n",
       "\n",
       "   gibbs_free_energy  qh_gibbs_free_energy  \n",
       "0        -326.561503           -326.561356  "
      ]
     },
     "execution_count": 17,
     "metadata": {},
     "output_type": "execute_result"
    }
   ],
   "source": [
    "# Parse output file for energy, frequency, method, etc.\n",
    "file_data = io.getoutData('methylaniline.out', options)\n",
    "\n",
    "# Carry out the thermochemical analysis and then create dataframe with results\n",
    "bbe_val = thermo.calc_bbe(file_data, options)\n",
    "bbe_df = pd.DataFrame([getattr(bbe_val, k) for k in cols]).T\n",
    "bbe_df.columns = cols\n",
    "bbe_df.insert(loc=0, column='Structure', value=[file_data.name])\n",
    "bbe_df"
   ]
  },
  {
   "cell_type": "markdown",
   "metadata": {},
   "source": [
    "### Example 6: Writing Cartesian coordinates to file"
   ]
  },
  {
   "cell_type": "code",
   "execution_count": 18,
   "metadata": {},
   "outputs": [],
   "source": [
    "options = gv.GVOptions()\n",
    "files = set(glob.glob(\"HCN*.out\")) # wildcard for file names\n",
    "\n",
    "file_data = []\n",
    "for file in files:\n",
    "    file_data.append(io.getoutData(file, options))\n",
    "    \n",
    "# Write to .xyz and then .sdf formats\n",
    "xyz = io.xyz_out(\"HCN_output.xyz\", file_data)\n",
    "sdf = io.sdf_out(\"HCN_output.sdf\", file_data)"
   ]
  },
  {
   "cell_type": "markdown",
   "metadata": {},
   "source": [
    "### Example 7: Analyzing multiple files at once"
   ]
  },
  {
   "cell_type": "code",
   "execution_count": 19,
   "metadata": {},
   "outputs": [],
   "source": [
    "options = gv.GVOptions()\n",
    "options.QS = 'grimme' # default setting (not required)\n",
    "files = set(glob.glob(\"*.out\")) - set(glob.glob(\"*NWChem.out\"))"
   ]
  },
  {
   "cell_type": "code",
   "execution_count": 20,
   "metadata": {},
   "outputs": [],
   "source": [
    "# Parse output files for energy, frequency, method, etc.\n",
    "file_data = []\n",
    "for file in files:\n",
    "    file_data.append(io.getoutData(file, options))\n",
    "        \n",
    "# Carry out the thermochemical analysis\n",
    "# the if statement here filters out structures for which thermochemical data is not available\n",
    "bbe_vals = [thermo.calc_bbe(file, options) for file in file_data if hasattr(thermo.calc_bbe(file, options), 'zpe')]\n",
    "names = [file.name for file in file_data if hasattr(thermo.calc_bbe(file, options), 'zpe')]"
   ]
  },
  {
   "cell_type": "code",
   "execution_count": 21,
   "metadata": {},
   "outputs": [
    {
     "data": {
      "text/html": [
       "<div>\n",
       "<style scoped>\n",
       "    .dataframe tbody tr th:only-of-type {\n",
       "        vertical-align: middle;\n",
       "    }\n",
       "\n",
       "    .dataframe tbody tr th {\n",
       "        vertical-align: top;\n",
       "    }\n",
       "\n",
       "    .dataframe thead th {\n",
       "        text-align: right;\n",
       "    }\n",
       "</style>\n",
       "<table border=\"1\" class=\"dataframe\">\n",
       "  <thead>\n",
       "    <tr style=\"text-align: right;\">\n",
       "      <th></th>\n",
       "      <th>Structure</th>\n",
       "      <th>scf_energy</th>\n",
       "      <th>zpe</th>\n",
       "      <th>enthalpy</th>\n",
       "      <th>entropy</th>\n",
       "      <th>qh_entropy</th>\n",
       "      <th>gibbs_free_energy</th>\n",
       "      <th>qh_gibbs_free_energy</th>\n",
       "    </tr>\n",
       "  </thead>\n",
       "  <tbody>\n",
       "    <tr>\n",
       "      <th>0</th>\n",
       "      <td>Al_298K.out</td>\n",
       "      <td>-242.328708</td>\n",
       "      <td>0.000000</td>\n",
       "      <td>-242.326347</td>\n",
       "      <td>0.000059</td>\n",
       "      <td>0.000059</td>\n",
       "      <td>-242.344018</td>\n",
       "      <td>-242.344018</td>\n",
       "    </tr>\n",
       "    <tr>\n",
       "      <th>1</th>\n",
       "      <td>benzene.out</td>\n",
       "      <td>-232.227201</td>\n",
       "      <td>0.101377</td>\n",
       "      <td>-232.120521</td>\n",
       "      <td>0.000110</td>\n",
       "      <td>0.000110</td>\n",
       "      <td>-232.153263</td>\n",
       "      <td>-232.153265</td>\n",
       "    </tr>\n",
       "    <tr>\n",
       "      <th>2</th>\n",
       "      <td>isobutane.out</td>\n",
       "      <td>-158.458811</td>\n",
       "      <td>0.132380</td>\n",
       "      <td>-158.319804</td>\n",
       "      <td>0.000115</td>\n",
       "      <td>0.000115</td>\n",
       "      <td>-158.354046</td>\n",
       "      <td>-158.354056</td>\n",
       "    </tr>\n",
       "    <tr>\n",
       "      <th>3</th>\n",
       "      <td>HCN_singlet.out</td>\n",
       "      <td>-93.358851</td>\n",
       "      <td>0.015978</td>\n",
       "      <td>-93.339373</td>\n",
       "      <td>0.000077</td>\n",
       "      <td>0.000077</td>\n",
       "      <td>-93.362269</td>\n",
       "      <td>-93.362269</td>\n",
       "    </tr>\n",
       "    <tr>\n",
       "      <th>4</th>\n",
       "      <td>H2O.out</td>\n",
       "      <td>-76.368128</td>\n",
       "      <td>0.020772</td>\n",
       "      <td>-76.343577</td>\n",
       "      <td>0.000072</td>\n",
       "      <td>0.000072</td>\n",
       "      <td>-76.365035</td>\n",
       "      <td>-76.365035</td>\n",
       "    </tr>\n",
       "    <tr>\n",
       "      <th>5</th>\n",
       "      <td>allene.out</td>\n",
       "      <td>-116.569605</td>\n",
       "      <td>0.053913</td>\n",
       "      <td>-116.510916</td>\n",
       "      <td>0.000093</td>\n",
       "      <td>0.000093</td>\n",
       "      <td>-116.538534</td>\n",
       "      <td>-116.538537</td>\n",
       "    </tr>\n",
       "    <tr>\n",
       "      <th>6</th>\n",
       "      <td>Al_400K.out</td>\n",
       "      <td>-242.328708</td>\n",
       "      <td>0.000000</td>\n",
       "      <td>-242.326347</td>\n",
       "      <td>0.000059</td>\n",
       "      <td>0.000059</td>\n",
       "      <td>-242.344018</td>\n",
       "      <td>-242.344018</td>\n",
       "    </tr>\n",
       "    <tr>\n",
       "      <th>7</th>\n",
       "      <td>neopentane.out</td>\n",
       "      <td>-197.772980</td>\n",
       "      <td>0.160311</td>\n",
       "      <td>-197.604824</td>\n",
       "      <td>0.000124</td>\n",
       "      <td>0.000124</td>\n",
       "      <td>-197.641776</td>\n",
       "      <td>-197.641791</td>\n",
       "    </tr>\n",
       "    <tr>\n",
       "      <th>8</th>\n",
       "      <td>HCN_triplet.out</td>\n",
       "      <td>-93.153787</td>\n",
       "      <td>0.012567</td>\n",
       "      <td>-93.137780</td>\n",
       "      <td>0.000081</td>\n",
       "      <td>0.000081</td>\n",
       "      <td>-93.161850</td>\n",
       "      <td>-93.161850</td>\n",
       "    </tr>\n",
       "    <tr>\n",
       "      <th>9</th>\n",
       "      <td>CuCN.out</td>\n",
       "      <td>-289.005463</td>\n",
       "      <td>0.006594</td>\n",
       "      <td>-288.994307</td>\n",
       "      <td>0.000087</td>\n",
       "      <td>0.000087</td>\n",
       "      <td>-289.020260</td>\n",
       "      <td>-289.020264</td>\n",
       "    </tr>\n",
       "    <tr>\n",
       "      <th>10</th>\n",
       "      <td>ethane.out</td>\n",
       "      <td>-79.830421</td>\n",
       "      <td>0.075238</td>\n",
       "      <td>-79.750770</td>\n",
       "      <td>0.000092</td>\n",
       "      <td>0.000092</td>\n",
       "      <td>-79.778293</td>\n",
       "      <td>-79.778295</td>\n",
       "    </tr>\n",
       "    <tr>\n",
       "      <th>11</th>\n",
       "      <td>methylaniline.out</td>\n",
       "      <td>-326.664901</td>\n",
       "      <td>0.142118</td>\n",
       "      <td>-326.514489</td>\n",
       "      <td>0.000133</td>\n",
       "      <td>0.000133</td>\n",
       "      <td>-326.554157</td>\n",
       "      <td>-326.554024</td>\n",
       "    </tr>\n",
       "    <tr>\n",
       "      <th>12</th>\n",
       "      <td>ethane_spc.out</td>\n",
       "      <td>-79.858399</td>\n",
       "      <td>0.075238</td>\n",
       "      <td>-79.778748</td>\n",
       "      <td>0.000092</td>\n",
       "      <td>0.000092</td>\n",
       "      <td>-79.806271</td>\n",
       "      <td>-79.806273</td>\n",
       "    </tr>\n",
       "  </tbody>\n",
       "</table>\n",
       "</div>"
      ],
      "text/plain": [
       "            Structure  scf_energy       zpe    enthalpy   entropy  qh_entropy  \\\n",
       "0         Al_298K.out -242.328708  0.000000 -242.326347  0.000059    0.000059   \n",
       "1         benzene.out -232.227201  0.101377 -232.120521  0.000110    0.000110   \n",
       "2       isobutane.out -158.458811  0.132380 -158.319804  0.000115    0.000115   \n",
       "3     HCN_singlet.out  -93.358851  0.015978  -93.339373  0.000077    0.000077   \n",
       "4             H2O.out  -76.368128  0.020772  -76.343577  0.000072    0.000072   \n",
       "5          allene.out -116.569605  0.053913 -116.510916  0.000093    0.000093   \n",
       "6         Al_400K.out -242.328708  0.000000 -242.326347  0.000059    0.000059   \n",
       "7      neopentane.out -197.772980  0.160311 -197.604824  0.000124    0.000124   \n",
       "8     HCN_triplet.out  -93.153787  0.012567  -93.137780  0.000081    0.000081   \n",
       "9            CuCN.out -289.005463  0.006594 -288.994307  0.000087    0.000087   \n",
       "10         ethane.out  -79.830421  0.075238  -79.750770  0.000092    0.000092   \n",
       "11  methylaniline.out -326.664901  0.142118 -326.514489  0.000133    0.000133   \n",
       "12     ethane_spc.out  -79.858399  0.075238  -79.778748  0.000092    0.000092   \n",
       "\n",
       "    gibbs_free_energy  qh_gibbs_free_energy  \n",
       "0         -242.344018           -242.344018  \n",
       "1         -232.153263           -232.153265  \n",
       "2         -158.354046           -158.354056  \n",
       "3          -93.362269            -93.362269  \n",
       "4          -76.365035            -76.365035  \n",
       "5         -116.538534           -116.538537  \n",
       "6         -242.344018           -242.344018  \n",
       "7         -197.641776           -197.641791  \n",
       "8          -93.161850            -93.161850  \n",
       "9         -289.020260           -289.020264  \n",
       "10         -79.778293            -79.778295  \n",
       "11        -326.554157           -326.554024  \n",
       "12         -79.806271            -79.806273  "
      ]
     },
     "execution_count": 21,
     "metadata": {},
     "output_type": "execute_result"
    }
   ],
   "source": [
    "# Create dataframe with thermochemical values\n",
    "vals = ['scf_energy', 'zpe', 'enthalpy', 'entropy', 'qh_entropy', 'gibbs_free_energy', 'qh_gibbs_free_energy']\n",
    "bbe_df = pd.DataFrame([[getattr(i,k) for k in vals] for i in bbe_vals], columns = vals)\n",
    "bbe_df.insert(loc=0, column='Structure', value=[file for file in names])\n",
    "bbe_df"
   ]
  },
  {
   "cell_type": "code",
   "execution_count": 22,
   "metadata": {},
   "outputs": [
    {
     "name": "stdout",
     "output_type": "stream",
     "text": [
      "   TOTAL CPU      0 days  2 hrs 37 mins  5 secs\n"
     ]
    }
   ],
   "source": [
    "# Total CPU time\n",
    "thermo_data = dict(zip(files, bbe_vals))\n",
    "cpu = gv.calc_cpu(thermo_data, options, log)"
   ]
  },
  {
   "cell_type": "markdown",
   "metadata": {},
   "source": [
    "### Example 8: Entropic Symmetry Correction"
   ]
  },
  {
   "cell_type": "code",
   "execution_count": 23,
   "metadata": {},
   "outputs": [],
   "source": [
    "options = gv.GVOptions()\n",
    "options.QS = 'grimme'\n",
    "files = [\"allene.out\", \"benzene.out\", \"ethane.out\", \"isobutane.out\", \"neopentane.out\"]\n",
    "\n",
    "# Parse output files for energy, frequency, method, etc.\n",
    "file_data = []\n",
    "for file in files:\n",
    "    file_data.append(io.getoutData(file, options))\n",
    "    \n",
    "# Carry out the thermochemical analysis\n",
    "bbe_vals = [thermo.calc_bbe(file, options) for file in file_data]"
   ]
  },
  {
   "cell_type": "code",
   "execution_count": 24,
   "metadata": {},
   "outputs": [
    {
     "data": {
      "text/html": [
       "<div>\n",
       "<style scoped>\n",
       "    .dataframe tbody tr th:only-of-type {\n",
       "        vertical-align: middle;\n",
       "    }\n",
       "\n",
       "    .dataframe tbody tr th {\n",
       "        vertical-align: top;\n",
       "    }\n",
       "\n",
       "    .dataframe thead th {\n",
       "        text-align: right;\n",
       "    }\n",
       "</style>\n",
       "<table border=\"1\" class=\"dataframe\">\n",
       "  <thead>\n",
       "    <tr style=\"text-align: right;\">\n",
       "      <th></th>\n",
       "      <th>Structure</th>\n",
       "      <th>scf_energy</th>\n",
       "      <th>zpe</th>\n",
       "      <th>enthalpy</th>\n",
       "      <th>entropy</th>\n",
       "      <th>qh_entropy</th>\n",
       "      <th>gibbs_free_energy</th>\n",
       "      <th>qh_gibbs_free_energy</th>\n",
       "      <th>point_group</th>\n",
       "    </tr>\n",
       "  </thead>\n",
       "  <tbody>\n",
       "    <tr>\n",
       "      <th>0</th>\n",
       "      <td>allene.out</td>\n",
       "      <td>-116.569605</td>\n",
       "      <td>0.053913</td>\n",
       "      <td>-116.510916</td>\n",
       "      <td>0.000093</td>\n",
       "      <td>0.000093</td>\n",
       "      <td>-116.538534</td>\n",
       "      <td>-116.538537</td>\n",
       "      <td>D2D</td>\n",
       "    </tr>\n",
       "    <tr>\n",
       "      <th>1</th>\n",
       "      <td>benzene.out</td>\n",
       "      <td>-232.227201</td>\n",
       "      <td>0.101377</td>\n",
       "      <td>-232.120521</td>\n",
       "      <td>0.000110</td>\n",
       "      <td>0.000110</td>\n",
       "      <td>-232.153263</td>\n",
       "      <td>-232.153265</td>\n",
       "      <td>C1</td>\n",
       "    </tr>\n",
       "    <tr>\n",
       "      <th>2</th>\n",
       "      <td>ethane.out</td>\n",
       "      <td>-79.830421</td>\n",
       "      <td>0.075238</td>\n",
       "      <td>-79.750770</td>\n",
       "      <td>0.000092</td>\n",
       "      <td>0.000092</td>\n",
       "      <td>-79.778293</td>\n",
       "      <td>-79.778295</td>\n",
       "      <td>C1</td>\n",
       "    </tr>\n",
       "    <tr>\n",
       "      <th>3</th>\n",
       "      <td>isobutane.out</td>\n",
       "      <td>-158.458811</td>\n",
       "      <td>0.132380</td>\n",
       "      <td>-158.319804</td>\n",
       "      <td>0.000115</td>\n",
       "      <td>0.000115</td>\n",
       "      <td>-158.354046</td>\n",
       "      <td>-158.354056</td>\n",
       "      <td>C1</td>\n",
       "    </tr>\n",
       "    <tr>\n",
       "      <th>4</th>\n",
       "      <td>neopentane.out</td>\n",
       "      <td>-197.772980</td>\n",
       "      <td>0.160311</td>\n",
       "      <td>-197.604824</td>\n",
       "      <td>0.000124</td>\n",
       "      <td>0.000124</td>\n",
       "      <td>-197.641776</td>\n",
       "      <td>-197.641791</td>\n",
       "      <td>C1</td>\n",
       "    </tr>\n",
       "  </tbody>\n",
       "</table>\n",
       "</div>"
      ],
      "text/plain": [
       "        Structure  scf_energy       zpe    enthalpy   entropy  qh_entropy  \\\n",
       "0      allene.out -116.569605  0.053913 -116.510916  0.000093    0.000093   \n",
       "1     benzene.out -232.227201  0.101377 -232.120521  0.000110    0.000110   \n",
       "2      ethane.out  -79.830421  0.075238  -79.750770  0.000092    0.000092   \n",
       "3   isobutane.out -158.458811  0.132380 -158.319804  0.000115    0.000115   \n",
       "4  neopentane.out -197.772980  0.160311 -197.604824  0.000124    0.000124   \n",
       "\n",
       "   gibbs_free_energy  qh_gibbs_free_energy point_group  \n",
       "0        -116.538534           -116.538537         D2D  \n",
       "1        -232.153263           -232.153265          C1  \n",
       "2         -79.778293            -79.778295          C1  \n",
       "3        -158.354046           -158.354056          C1  \n",
       "4        -197.641776           -197.641791          C1  "
      ]
     },
     "execution_count": 24,
     "metadata": {},
     "output_type": "execute_result"
    }
   ],
   "source": [
    "# Create dataframe with thermochemical values\n",
    "# These point groups are parsed from the Gaussian log files \n",
    "vals = ['scf_energy', 'zpe', 'enthalpy', 'entropy', 'qh_entropy', 'gibbs_free_energy', 'qh_gibbs_free_energy', 'point_group']\n",
    "bbe_df = pd.DataFrame([[getattr(i,k) for k in vals] for i in bbe_vals], columns = vals)\n",
    "bbe_df.insert(loc=0, column='Structure', value=[file.name for file in file_data])\n",
    "bbe_df"
   ]
  },
  {
   "cell_type": "code",
   "execution_count": 25,
   "metadata": {},
   "outputs": [
    {
     "data": {
      "text/html": [
       "<div>\n",
       "<style scoped>\n",
       "    .dataframe tbody tr th:only-of-type {\n",
       "        vertical-align: middle;\n",
       "    }\n",
       "\n",
       "    .dataframe tbody tr th {\n",
       "        vertical-align: top;\n",
       "    }\n",
       "\n",
       "    .dataframe thead th {\n",
       "        text-align: right;\n",
       "    }\n",
       "</style>\n",
       "<table border=\"1\" class=\"dataframe\">\n",
       "  <thead>\n",
       "    <tr style=\"text-align: right;\">\n",
       "      <th></th>\n",
       "      <th>Structure</th>\n",
       "      <th>scf_energy</th>\n",
       "      <th>zpe</th>\n",
       "      <th>enthalpy</th>\n",
       "      <th>entropy</th>\n",
       "      <th>qh_entropy</th>\n",
       "      <th>gibbs_free_energy</th>\n",
       "      <th>qh_gibbs_free_energy</th>\n",
       "      <th>point_group</th>\n",
       "    </tr>\n",
       "  </thead>\n",
       "  <tbody>\n",
       "    <tr>\n",
       "      <th>0</th>\n",
       "      <td>allene.out</td>\n",
       "      <td>-116.569605</td>\n",
       "      <td>0.053913</td>\n",
       "      <td>-116.510916</td>\n",
       "      <td>0.000088</td>\n",
       "      <td>0.000088</td>\n",
       "      <td>-116.537225</td>\n",
       "      <td>-116.537228</td>\n",
       "      <td>D2d</td>\n",
       "    </tr>\n",
       "    <tr>\n",
       "      <th>1</th>\n",
       "      <td>benzene.out</td>\n",
       "      <td>-232.227201</td>\n",
       "      <td>0.101377</td>\n",
       "      <td>-232.120521</td>\n",
       "      <td>0.000102</td>\n",
       "      <td>0.000102</td>\n",
       "      <td>-232.150917</td>\n",
       "      <td>-232.150919</td>\n",
       "      <td>D6h</td>\n",
       "    </tr>\n",
       "    <tr>\n",
       "      <th>2</th>\n",
       "      <td>ethane.out</td>\n",
       "      <td>-79.830421</td>\n",
       "      <td>0.075238</td>\n",
       "      <td>-79.750770</td>\n",
       "      <td>0.000087</td>\n",
       "      <td>0.000087</td>\n",
       "      <td>-79.776601</td>\n",
       "      <td>-79.776603</td>\n",
       "      <td>D3d</td>\n",
       "    </tr>\n",
       "    <tr>\n",
       "      <th>3</th>\n",
       "      <td>isobutane.out</td>\n",
       "      <td>-158.458811</td>\n",
       "      <td>0.132380</td>\n",
       "      <td>-158.319804</td>\n",
       "      <td>0.000111</td>\n",
       "      <td>0.000111</td>\n",
       "      <td>-158.353008</td>\n",
       "      <td>-158.353019</td>\n",
       "      <td>C3v</td>\n",
       "    </tr>\n",
       "    <tr>\n",
       "      <th>4</th>\n",
       "      <td>neopentane.out</td>\n",
       "      <td>-197.772980</td>\n",
       "      <td>0.160311</td>\n",
       "      <td>-197.604824</td>\n",
       "      <td>0.000116</td>\n",
       "      <td>0.000116</td>\n",
       "      <td>-197.639430</td>\n",
       "      <td>-197.639444</td>\n",
       "      <td>Td</td>\n",
       "    </tr>\n",
       "  </tbody>\n",
       "</table>\n",
       "</div>"
      ],
      "text/plain": [
       "        Structure  scf_energy       zpe    enthalpy   entropy  qh_entropy  \\\n",
       "0      allene.out -116.569605  0.053913 -116.510916  0.000088    0.000088   \n",
       "1     benzene.out -232.227201  0.101377 -232.120521  0.000102    0.000102   \n",
       "2      ethane.out  -79.830421  0.075238  -79.750770  0.000087    0.000087   \n",
       "3   isobutane.out -158.458811  0.132380 -158.319804  0.000111    0.000111   \n",
       "4  neopentane.out -197.772980  0.160311 -197.604824  0.000116    0.000116   \n",
       "\n",
       "   gibbs_free_energy  qh_gibbs_free_energy point_group  \n",
       "0        -116.537225           -116.537228         D2d  \n",
       "1        -232.150917           -232.150919         D6h  \n",
       "2         -79.776601            -79.776603         D3d  \n",
       "3        -158.353008           -158.353019         C3v  \n",
       "4        -197.639430           -197.639444          Td  "
      ]
     },
     "execution_count": 25,
     "metadata": {},
     "output_type": "execute_result"
    }
   ],
   "source": [
    "# Several of these molecules were assigned as C1 by Gaussian. \n",
    "# But we can try to obtain the point groups independently and then recompute the partition functions\n",
    "options.ssymm = True\n",
    "file_data = []\n",
    "for file in files:\n",
    "    file_data.append(io.getoutData(file, options))\n",
    "    \n",
    "# Carry out the thermochemical analysis again\n",
    "bbe_vals = [thermo.calc_bbe(file, options) for file in file_data]\n",
    "# Show a table\n",
    "vals = ['scf_energy', 'zpe', 'enthalpy', 'entropy', 'qh_entropy', 'gibbs_free_energy', 'qh_gibbs_free_energy', 'point_group']\n",
    "bbe_df = pd.DataFrame([[getattr(i,k) for k in vals] for i in bbe_vals], columns = vals)\n",
    "bbe_df.insert(loc=0, column='Structure', value=[file.name for file in file_data])\n",
    "bbe_df"
   ]
  },
  {
   "cell_type": "markdown",
   "metadata": {},
   "source": [
    "### Example 9: Potential Energy Surface (PES) Comparison with Accessible Conformer Correction"
   ]
  },
  {
   "cell_type": "code",
   "execution_count": 26,
   "metadata": {},
   "outputs": [],
   "source": [
    "os.chdir('gconf_ee_boltz')"
   ]
  },
  {
   "cell_type": "code",
   "execution_count": 27,
   "metadata": {},
   "outputs": [
    {
     "data": {
      "text/html": [
       "<div>\n",
       "<style scoped>\n",
       "    .dataframe tbody tr th:only-of-type {\n",
       "        vertical-align: middle;\n",
       "    }\n",
       "\n",
       "    .dataframe tbody tr th {\n",
       "        vertical-align: top;\n",
       "    }\n",
       "\n",
       "    .dataframe thead th {\n",
       "        text-align: right;\n",
       "    }\n",
       "</style>\n",
       "<table border=\"1\" class=\"dataframe\">\n",
       "  <thead>\n",
       "    <tr style=\"text-align: right;\">\n",
       "      <th></th>\n",
       "      <th>Structure</th>\n",
       "      <th>scf_energy</th>\n",
       "      <th>zpe</th>\n",
       "      <th>enthalpy</th>\n",
       "      <th>entropy</th>\n",
       "      <th>qh_entropy</th>\n",
       "      <th>gibbs_free_energy</th>\n",
       "      <th>qh_gibbs_free_energy</th>\n",
       "    </tr>\n",
       "  </thead>\n",
       "  <tbody>\n",
       "    <tr>\n",
       "      <th>0</th>\n",
       "      <td>aminox_cat_conf65_S.log</td>\n",
       "      <td>-517.877161</td>\n",
       "      <td>0.206999</td>\n",
       "      <td>-517.658210</td>\n",
       "      <td>0.000165</td>\n",
       "      <td>0.000162</td>\n",
       "      <td>-517.707487</td>\n",
       "      <td>-517.706389</td>\n",
       "    </tr>\n",
       "    <tr>\n",
       "      <th>1</th>\n",
       "      <td>Aminoxylation_TS2_S.log</td>\n",
       "      <td>-879.404445</td>\n",
       "      <td>0.304434</td>\n",
       "      <td>-879.081872</td>\n",
       "      <td>0.000213</td>\n",
       "      <td>0.000205</td>\n",
       "      <td>-879.145351</td>\n",
       "      <td>-879.142947</td>\n",
       "    </tr>\n",
       "    <tr>\n",
       "      <th>2</th>\n",
       "      <td>aminox_cat_conf280_R.log</td>\n",
       "      <td>-517.877308</td>\n",
       "      <td>0.207081</td>\n",
       "      <td>-517.658218</td>\n",
       "      <td>0.000166</td>\n",
       "      <td>0.000162</td>\n",
       "      <td>-517.707700</td>\n",
       "      <td>-517.706518</td>\n",
       "    </tr>\n",
       "    <tr>\n",
       "      <th>3</th>\n",
       "      <td>Aminoxylation_TS1_R.log</td>\n",
       "      <td>-879.405138</td>\n",
       "      <td>0.304487</td>\n",
       "      <td>-879.082686</td>\n",
       "      <td>0.000211</td>\n",
       "      <td>0.000203</td>\n",
       "      <td>-879.145547</td>\n",
       "      <td>-879.143350</td>\n",
       "    </tr>\n",
       "    <tr>\n",
       "      <th>4</th>\n",
       "      <td>aminox_cat_conf212_S.log</td>\n",
       "      <td>-517.875165</td>\n",
       "      <td>0.206534</td>\n",
       "      <td>-517.656256</td>\n",
       "      <td>0.000172</td>\n",
       "      <td>0.000165</td>\n",
       "      <td>-517.707550</td>\n",
       "      <td>-517.705591</td>\n",
       "    </tr>\n",
       "    <tr>\n",
       "      <th>5</th>\n",
       "      <td>aminox_subs_conf713.log</td>\n",
       "      <td>-361.535757</td>\n",
       "      <td>0.098285</td>\n",
       "      <td>-361.430368</td>\n",
       "      <td>0.000126</td>\n",
       "      <td>0.000126</td>\n",
       "      <td>-361.467939</td>\n",
       "      <td>-361.467818</td>\n",
       "    </tr>\n",
       "  </tbody>\n",
       "</table>\n",
       "</div>"
      ],
      "text/plain": [
       "                  Structure  scf_energy       zpe    enthalpy   entropy  \\\n",
       "0   aminox_cat_conf65_S.log -517.877161  0.206999 -517.658210  0.000165   \n",
       "1   Aminoxylation_TS2_S.log -879.404445  0.304434 -879.081872  0.000213   \n",
       "2  aminox_cat_conf280_R.log -517.877308  0.207081 -517.658218  0.000166   \n",
       "3   Aminoxylation_TS1_R.log -879.405138  0.304487 -879.082686  0.000211   \n",
       "4  aminox_cat_conf212_S.log -517.875165  0.206534 -517.656256  0.000172   \n",
       "5   aminox_subs_conf713.log -361.535757  0.098285 -361.430368  0.000126   \n",
       "\n",
       "   qh_entropy  gibbs_free_energy  qh_gibbs_free_energy  \n",
       "0    0.000162        -517.707487           -517.706389  \n",
       "1    0.000205        -879.145351           -879.142947  \n",
       "2    0.000162        -517.707700           -517.706518  \n",
       "3    0.000203        -879.145547           -879.143350  \n",
       "4    0.000165        -517.707550           -517.705591  \n",
       "5    0.000126        -361.467939           -361.467818  "
      ]
     },
     "execution_count": 27,
     "metadata": {},
     "output_type": "execute_result"
    }
   ],
   "source": [
    "files = set(glob.glob(\"*.log\"))\n",
    "options = gv.GVOptions()\n",
    "options.pes = 'gconf_aminox_cat.yaml' # external file defining PES\n",
    "options.gconf = False\n",
    "# parse file data\n",
    "file_data = []\n",
    "for file in files:\n",
    "    file_data.append(io.getoutData(file, options))\n",
    "\n",
    "# thermochemical calculation\n",
    "bbe_vals = [thermo.calc_bbe(file, options) for file in file_data]\n",
    "thermo_data = dict(zip(files, bbe_vals))\n",
    "\n",
    "# Show a table\n",
    "vals = ['scf_energy', 'zpe', 'enthalpy', 'entropy', 'qh_entropy', 'gibbs_free_energy', 'qh_gibbs_free_energy']\n",
    "bbe_df = pd.DataFrame([[getattr(i,k) for k in vals] for i in bbe_vals], columns = vals)\n",
    "bbe_df.insert(loc=0, column='Structure', value=[file.name for file in file_data])\n",
    "bbe_df"
   ]
  },
  {
   "cell_type": "code",
   "execution_count": 28,
   "metadata": {},
   "outputs": [
    {
     "data": {
      "text/html": [
       "<div>\n",
       "<style scoped>\n",
       "    .dataframe tbody tr th:only-of-type {\n",
       "        vertical-align: middle;\n",
       "    }\n",
       "\n",
       "    .dataframe tbody tr th {\n",
       "        vertical-align: top;\n",
       "    }\n",
       "\n",
       "    .dataframe thead th {\n",
       "        text-align: right;\n",
       "    }\n",
       "</style>\n",
       "<table border=\"1\" class=\"dataframe\">\n",
       "  <thead>\n",
       "    <tr style=\"text-align: right;\">\n",
       "      <th></th>\n",
       "      <th>Species</th>\n",
       "      <th>DE</th>\n",
       "      <th>DZPE</th>\n",
       "      <th>DH</th>\n",
       "      <th>T.DS</th>\n",
       "      <th>T.qh-DS</th>\n",
       "      <th>DG(T)</th>\n",
       "      <th>qh-DG(T)</th>\n",
       "    </tr>\n",
       "  </thead>\n",
       "  <tbody>\n",
       "    <tr>\n",
       "      <th>0</th>\n",
       "      <td>cat+subs</td>\n",
       "      <td>0.000000</td>\n",
       "      <td>0.000000</td>\n",
       "      <td>0.000000</td>\n",
       "      <td>0.000000</td>\n",
       "      <td>0.000000</td>\n",
       "      <td>0.000000</td>\n",
       "      <td>0.00000</td>\n",
       "    </tr>\n",
       "    <tr>\n",
       "      <th>1</th>\n",
       "      <td>TS</td>\n",
       "      <td>4.714252</td>\n",
       "      <td>-0.474654</td>\n",
       "      <td>3.495076</td>\n",
       "      <td>-15.320358</td>\n",
       "      <td>-15.820644</td>\n",
       "      <td>18.815434</td>\n",
       "      <td>19.31572</td>\n",
       "    </tr>\n",
       "  </tbody>\n",
       "</table>\n",
       "</div>"
      ],
      "text/plain": [
       "    Species        DE      DZPE        DH       T.DS    T.qh-DS      DG(T)  \\\n",
       "0  cat+subs  0.000000  0.000000  0.000000   0.000000   0.000000   0.000000   \n",
       "1        TS  4.714252 -0.474654  3.495076 -15.320358 -15.820644  18.815434   \n",
       "\n",
       "   qh-DG(T)  \n",
       "0   0.00000  \n",
       "1  19.31572  "
      ]
     },
     "execution_count": 28,
     "metadata": {},
     "output_type": "execute_result"
    }
   ],
   "source": [
    "# Convert absolute values into a relatve PES \n",
    "species, table = pes.tabulate(thermo_data, options, log)\n",
    "# Create a dataframe of the PES\n",
    "pes_df = pd.DataFrame(table)\n",
    "pes_df.columns = [\"DE\", \"DZPE\", \"DH\", \"T.DS\", \"T.qh-DS\", \"DG(T)\", \"qh-DG(T)\"]\n",
    "pes_df.insert(loc=0, column='Species', value=species[0])\n",
    "pes_df.head()"
   ]
  },
  {
   "cell_type": "code",
   "execution_count": 29,
   "metadata": {},
   "outputs": [
    {
     "name": "stdout",
     "output_type": "stream",
     "text": [
      "\n",
      "   Graphing Reaction Profile\n"
     ]
    },
    {
     "data": {
      "image/png": "[encoded data removed]",
      "text/plain": [
       "<Figure size 432x288 with 1 Axes>"
      ]
     },
     "metadata": {
      "needs_background": "light"
     },
     "output_type": "display_data"
    }
   ],
   "source": [
    "# Plot the PES\n",
    "options.graph = options.pes\n",
    "graph_data = pes.get_pes(thermo_data, options, log)\n",
    "pes.graph_reaction_profile(graph_data, options, log)"
   ]
  },
  {
   "cell_type": "markdown",
   "metadata": {},
   "source": [
    "### Example 10: Stereoselectivity and Boltzmann populations"
   ]
  },
  {
   "cell_type": "code",
   "execution_count": 30,
   "metadata": {},
   "outputs": [],
   "source": [
    "options = gv.GVOptions()\n",
    "options.QS = 'grimme'\n",
    "options.Boltz = True\n",
    "\n",
    "# Define two groups of files by wildcard matching\n",
    "options.ee = \"*_R*:*_S*\"\n",
    "files = set(glob.glob(\"Aminoxylation_TS*.log\"))"
   ]
  },
  {
   "cell_type": "code",
   "execution_count": 31,
   "metadata": {},
   "outputs": [],
   "source": [
    "file_data = []\n",
    "for file in files:\n",
    "    file_data.append(io.getoutData(file, options))\n"
   ]
  },
  {
   "cell_type": "code",
   "execution_count": 32,
   "metadata": {},
   "outputs": [
    {
     "name": "stdout",
     "output_type": "stream",
     "text": [
      "\n",
      "   Selectivity                                Excess (%)     Ratio (%)         Ratio         Major  DDG kcal/mol\n",
      "   *************************************************************************************************************\n",
      "o                                                  21.00         61:39         1.5:1             R          0.25\n",
      "   *************************************************************************************************************\n"
     ]
    }
   ],
   "source": [
    "bbe_vals = [thermo.calc_bbe(file, options) for file in file_data]\n",
    "thermo_data = dict(zip(files, bbe_vals))\n",
    "\n",
    "boltz_facs, weighted_free_energy, boltz_sum = gv.get_boltz(thermo_data, options)\n",
    "ee, er, ratio, dd_free_energy, failed, preference = gv.get_selectivity(files, options, boltz_facs, boltz_sum, log)\n"
   ]
  },
  {
   "cell_type": "code",
   "execution_count": null,
   "metadata": {},
   "outputs": [],
   "source": []
  }
 ],
 "metadata": {
  "kernelspec": {
   "display_name": "Python 3",
   "language": "python",
   "name": "python3"
  },
  "language_info": {
   "codemirror_mode": {
    "name": "ipython",
    "version": 3
   },
   "file_extension": ".py",
   "mimetype": "text/x-python",
   "name": "python",
   "nbconvert_exporter": "python",
   "pygments_lexer": "ipython3",
   "version": "3.7.6"
  }
 },
 "nbformat": 4,
 "nbformat_minor": 4
}
